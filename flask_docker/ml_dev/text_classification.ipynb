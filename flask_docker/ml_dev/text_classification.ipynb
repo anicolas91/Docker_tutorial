{
 "cells": [
  {
   "cell_type": "markdown",
   "metadata": {},
   "source": [
    "# Build a ML app with flask and docker\n",
    "This text classification model development comes from Patrick Loeber's tutorial.\n",
    "- Github: https://github.com/patrickloeber/ml-deployment/tree/main/docker-flask\n",
    "- youtube: https://www.youtube.com/watch?v=S--SD4QbGps&t=1s&ab_channel=PatrickLoeber"
   ]
  },
  {
   "cell_type": "code",
   "execution_count": null,
   "metadata": {},
   "outputs": [],
   "source": []
  }
 ],
 "metadata": {
  "language_info": {
   "name": "python"
  }
 },
 "nbformat": 4,
 "nbformat_minor": 2
}
